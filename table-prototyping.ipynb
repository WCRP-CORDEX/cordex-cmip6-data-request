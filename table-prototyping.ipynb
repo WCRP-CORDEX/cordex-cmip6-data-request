{
 "cells": [
  {
   "cell_type": "markdown",
   "id": "9b763cdf-daa0-4d47-9d7d-bd627d72d34b",
   "metadata": {},
   "source": [
    "# CMOR-CMIP6 cmor tables prototyping"
   ]
  },
  {
   "cell_type": "code",
   "execution_count": 1,
   "id": "3e315f4a-4e66-4b3b-bace-031987beac29",
   "metadata": {},
   "outputs": [],
   "source": [
    "%load_ext autoreload\n",
    "%autoreload 2"
   ]
  },
  {
   "cell_type": "code",
   "execution_count": 2,
   "id": "c8313747-3f73-41ba-a884-468be5f51324",
   "metadata": {},
   "outputs": [],
   "source": [
    "import pandas as pd\n",
    "\n",
    "import data_request as dr"
   ]
  },
  {
   "cell_type": "code",
   "execution_count": 3,
   "id": "664626b3-15fb-4345-894a-5592b95ef067",
   "metadata": {},
   "outputs": [
    {
     "data": {
      "text/html": [
       "<div>\n",
       "<style scoped>\n",
       "    .dataframe tbody tr th:only-of-type {\n",
       "        vertical-align: middle;\n",
       "    }\n",
       "\n",
       "    .dataframe tbody tr th {\n",
       "        vertical-align: top;\n",
       "    }\n",
       "\n",
       "    .dataframe thead th {\n",
       "        text-align: right;\n",
       "    }\n",
       "</style>\n",
       "<table border=\"1\" class=\"dataframe\">\n",
       "  <thead>\n",
       "    <tr style=\"text-align: right;\">\n",
       "      <th></th>\n",
       "      <th>output variable name</th>\n",
       "      <th>units</th>\n",
       "      <th>ag</th>\n",
       "      <th>long_name</th>\n",
       "      <th>standard_name</th>\n",
       "      <th>priority</th>\n",
       "      <th>comments</th>\n",
       "      <th>frequency</th>\n",
       "    </tr>\n",
       "  </thead>\n",
       "  <tbody>\n",
       "    <tr>\n",
       "      <th>0</th>\n",
       "      <td>tas</td>\n",
       "      <td>K</td>\n",
       "      <td>i</td>\n",
       "      <td>Near-Surface Air Temperature</td>\n",
       "      <td>air_temperature</td>\n",
       "      <td>CORE</td>\n",
       "      <td>NaN</td>\n",
       "      <td>mon</td>\n",
       "    </tr>\n",
       "    <tr>\n",
       "      <th>1</th>\n",
       "      <td>tas</td>\n",
       "      <td>K</td>\n",
       "      <td>i</td>\n",
       "      <td>Near-Surface Air Temperature</td>\n",
       "      <td>air_temperature</td>\n",
       "      <td>CORE</td>\n",
       "      <td>NaN</td>\n",
       "      <td>day</td>\n",
       "    </tr>\n",
       "    <tr>\n",
       "      <th>2</th>\n",
       "      <td>tas</td>\n",
       "      <td>K</td>\n",
       "      <td>i</td>\n",
       "      <td>Near-Surface Air Temperature</td>\n",
       "      <td>air_temperature</td>\n",
       "      <td>CORE</td>\n",
       "      <td>NaN</td>\n",
       "      <td>1hr</td>\n",
       "    </tr>\n",
       "    <tr>\n",
       "      <th>3</th>\n",
       "      <td>tasmax</td>\n",
       "      <td>K</td>\n",
       "      <td>NaN</td>\n",
       "      <td>Daily Maximum Near-Surface Air Temperature</td>\n",
       "      <td>air_temperature</td>\n",
       "      <td>CORE</td>\n",
       "      <td>maximum from all integrated time steps per day</td>\n",
       "      <td>mon</td>\n",
       "    </tr>\n",
       "    <tr>\n",
       "      <th>4</th>\n",
       "      <td>tasmax</td>\n",
       "      <td>K</td>\n",
       "      <td>NaN</td>\n",
       "      <td>Daily Maximum Near-Surface Air Temperature</td>\n",
       "      <td>air_temperature</td>\n",
       "      <td>CORE</td>\n",
       "      <td>maximum from all integrated time steps per day</td>\n",
       "      <td>day</td>\n",
       "    </tr>\n",
       "    <tr>\n",
       "      <th>...</th>\n",
       "      <td>...</td>\n",
       "      <td>...</td>\n",
       "      <td>...</td>\n",
       "      <td>...</td>\n",
       "      <td>...</td>\n",
       "      <td>...</td>\n",
       "      <td>...</td>\n",
       "      <td>...</td>\n",
       "    </tr>\n",
       "    <tr>\n",
       "      <th>582</th>\n",
       "      <td>rootd</td>\n",
       "      <td>m</td>\n",
       "      <td>NaN</td>\n",
       "      <td>Maximum Root Depth</td>\n",
       "      <td>root_depth</td>\n",
       "      <td>TIER2</td>\n",
       "      <td>NaN</td>\n",
       "      <td>fx</td>\n",
       "    </tr>\n",
       "    <tr>\n",
       "      <th>583</th>\n",
       "      <td>sftlaf</td>\n",
       "      <td>%</td>\n",
       "      <td>NaN</td>\n",
       "      <td>Percentage of the Grid Cell Occupied by Lake</td>\n",
       "      <td>lake_area_fraction</td>\n",
       "      <td>TIER2</td>\n",
       "      <td>not in CMIP or in CF</td>\n",
       "      <td>fx</td>\n",
       "    </tr>\n",
       "    <tr>\n",
       "      <th>584</th>\n",
       "      <td>sfturf</td>\n",
       "      <td>%</td>\n",
       "      <td>NaN</td>\n",
       "      <td>Percentage of the Grid Cell Occupied by City</td>\n",
       "      <td>urban_area_fraction</td>\n",
       "      <td>TIER2</td>\n",
       "      <td>not in CMIP or in CF</td>\n",
       "      <td>fx</td>\n",
       "    </tr>\n",
       "    <tr>\n",
       "      <th>585</th>\n",
       "      <td>dtb</td>\n",
       "      <td>m</td>\n",
       "      <td>NaN</td>\n",
       "      <td>Depth to Bedrock</td>\n",
       "      <td>bedrock_depth</td>\n",
       "      <td>TIER2</td>\n",
       "      <td>not in CMIP or in CF (lower boundary of land s...</td>\n",
       "      <td>fx</td>\n",
       "    </tr>\n",
       "    <tr>\n",
       "      <th>586</th>\n",
       "      <td>areacella</td>\n",
       "      <td>m2</td>\n",
       "      <td>NaN</td>\n",
       "      <td>Atmosphere Grid-Cell Area</td>\n",
       "      <td>cell_area</td>\n",
       "      <td>TIER2</td>\n",
       "      <td>NaN</td>\n",
       "      <td>fx</td>\n",
       "    </tr>\n",
       "  </tbody>\n",
       "</table>\n",
       "<p>566 rows × 8 columns</p>\n",
       "</div>"
      ],
      "text/plain": [
       "    output variable name units   ag  \\\n",
       "0                    tas     K    i   \n",
       "1                    tas     K    i   \n",
       "2                    tas     K    i   \n",
       "3                 tasmax     K  NaN   \n",
       "4                 tasmax     K  NaN   \n",
       "..                   ...   ...  ...   \n",
       "582                rootd     m  NaN   \n",
       "583               sftlaf     %  NaN   \n",
       "584               sfturf     %  NaN   \n",
       "585                  dtb     m  NaN   \n",
       "586            areacella    m2  NaN   \n",
       "\n",
       "                                        long_name        standard_name  \\\n",
       "0                    Near-Surface Air Temperature      air_temperature   \n",
       "1                    Near-Surface Air Temperature      air_temperature   \n",
       "2                    Near-Surface Air Temperature      air_temperature   \n",
       "3      Daily Maximum Near-Surface Air Temperature      air_temperature   \n",
       "4      Daily Maximum Near-Surface Air Temperature      air_temperature   \n",
       "..                                            ...                  ...   \n",
       "582                            Maximum Root Depth           root_depth   \n",
       "583  Percentage of the Grid Cell Occupied by Lake   lake_area_fraction   \n",
       "584  Percentage of the Grid Cell Occupied by City  urban_area_fraction   \n",
       "585                              Depth to Bedrock        bedrock_depth   \n",
       "586                     Atmosphere Grid-Cell Area            cell_area   \n",
       "\n",
       "    priority                                           comments frequency  \n",
       "0       CORE                                                NaN       mon  \n",
       "1       CORE                                                NaN       day  \n",
       "2       CORE                                                NaN       1hr  \n",
       "3       CORE     maximum from all integrated time steps per day       mon  \n",
       "4       CORE     maximum from all integrated time steps per day       day  \n",
       "..       ...                                                ...       ...  \n",
       "582    TIER2                                                NaN        fx  \n",
       "583    TIER2                              not in CMIP or in CF         fx  \n",
       "584    TIER2                              not in CMIP or in CF         fx  \n",
       "585    TIER2  not in CMIP or in CF (lower boundary of land s...        fx  \n",
       "586    TIER2                                                NaN        fx  \n",
       "\n",
       "[566 rows x 8 columns]"
      ]
     },
     "execution_count": 3,
     "metadata": {},
     "output_type": "execute_result"
    }
   ],
   "source": [
    "df = dr.retrieve_data_request()  # read_csv(\"cordex-cmip6-data-request.csv\")\n",
    "df.to_csv(\"cordex-cmip6-data-request.csv\", index=False)\n",
    "df"
   ]
  },
  {
   "cell_type": "code",
   "execution_count": 4,
   "id": "2916be36-d902-46ac-ba74-39791d902400",
   "metadata": {},
   "outputs": [
    {
     "data": {
      "text/plain": [
       "array(['tas', 'tasmax', 'tasmin', 'pr', 'evspsbl', 'huss', 'hurs', 'ps',\n",
       "       'psl', 'sfcWind', 'uas', 'vas', 'clt', 'rsds', 'rlds', 'orog',\n",
       "       'sftlf', 'ts', 'tsl', 'prc', 'prhmax', 'prsn', 'mrros', 'mrro',\n",
       "       'snm', 'tauu', 'tauv', 'sfcWindmax', 'sund', 'rsdsdir', 'rsus',\n",
       "       'rlus', 'rlut', 'rsdt', 'rsut', 'hfls', 'hfss', 'mrfso', 'mrfsos',\n",
       "       'mrfsol', 'mrso', 'mrsos', 'mrsol', 'snw', 'snc', 'snd', 'siconca',\n",
       "       'zmla', 'prw', 'clwvi', 'clivi', 'ua1000', 'ua925', 'ua850',\n",
       "       'ua700', 'ua600', 'ua500', 'ua400', 'ua300', 'ua250', 'ua200',\n",
       "       'va1000', 'va925', 'va850', 'va700', 'va600', 'va500', 'va400',\n",
       "       'va300', 'va250', 'va200', 'ta1000', 'ta925', 'ta850', 'ta700',\n",
       "       'ta600', 'ta500', 'ta400', 'ta300', 'ta250', 'ta200', 'hus1000',\n",
       "       'hus925', 'hus850', 'hus700', 'hus600', 'hus500', 'hus400',\n",
       "       'hus300', 'hus250', 'hus200', 'zg1000', 'zg925', 'zg850', 'zg700',\n",
       "       'zg600', 'zg500', 'zg400', 'zg300', 'zg250', 'zg200', 'wa1000',\n",
       "       'wa925', 'wa850', 'wa700', 'wa600', 'wa500', 'wa400', 'wa300',\n",
       "       'wa250', 'wa200', 'ua50m', 'ua100m', 'ua150m', 'va50m', 'va100m',\n",
       "       'va150m', 'ta50m', 'hus50m', 'evspsblpot', 'wsgsmax', 'clh', 'clm',\n",
       "       'cll', 'rsdscs', 'rldscs', 'rsuscs', 'rluscs', 'rsutcs', 'rlutcs',\n",
       "       'z0', 'CAPE', 'LI', 'CIN', 'CAPEmax', 'LImax', 'CINmax',\n",
       "       'od550aer ', 'ua150', 'ua100', 'ua70', 'ua50', 'ua30', 'ua20',\n",
       "       'ua10', 'va150', 'va100', 'va70', 'va50', 'va30', 'va20', 'va10',\n",
       "       'ta150', 'ta100', 'ta70', 'ta50', 'ta30', 'ta20', 'ta10', 'hus150',\n",
       "       'hus100', 'hus70', 'hus50', 'hus30', 'hus20', 'hus10', 'zg150',\n",
       "       'zg100', 'zg70', 'zg50', 'zg30', 'zg20', 'zg10', 'wa150', 'wa100',\n",
       "       'wa70', 'wa50', 'wa30', 'wa20', 'wa10', 'ua750', 'va750', 'ta750',\n",
       "       'hus750', 'zg750', 'wa750', 'ua200m', 'ua250m', 'ua300m', 'va200m',\n",
       "       'va250m', 'va300m', 'sftgif', 'mrsofc', 'rootd', 'sftlaf',\n",
       "       'sfturf', 'dtb', 'areacella'], dtype=object)"
      ]
     },
     "execution_count": 4,
     "metadata": {},
     "output_type": "execute_result"
    }
   ],
   "source": [
    "df[\"output variable name\"].unique()"
   ]
  },
  {
   "cell_type": "code",
   "execution_count": 5,
   "id": "20d3b0a2-5feb-417f-95f1-28638945563c",
   "metadata": {},
   "outputs": [],
   "source": [
    "def get_meta_info_by_frequency(out_name, frequency):\n",
    "    return dr.get_all_variable_entries_by_attributes(\n",
    "        out_name=out_name, frequency=frequency, how=\"all\"\n",
    "    )"
   ]
  },
  {
   "cell_type": "code",
   "execution_count": 6,
   "id": "7c334544-163d-47f4-a055-9e55808ceb79",
   "metadata": {},
   "outputs": [
    {
     "data": {
      "text/plain": [
       "{'CMIP6_3hr.json': {'tas': {'frequency': '3hrPt',\n",
       "   'modeling_realm': 'atmos',\n",
       "   'standard_name': 'air_temperature',\n",
       "   'units': 'K',\n",
       "   'cell_methods': 'area: mean time: point',\n",
       "   'cell_measures': 'area: areacella',\n",
       "   'long_name': 'Near-Surface Air Temperature',\n",
       "   'comment': 'near-surface (usually, 2 meter) air temperature',\n",
       "   'dimensions': 'longitude latitude time1 height2m',\n",
       "   'out_name': 'tas',\n",
       "   'type': 'real',\n",
       "   'positive': '',\n",
       "   'valid_min': '',\n",
       "   'valid_max': '',\n",
       "   'ok_min_mean_abs': '',\n",
       "   'ok_max_mean_abs': ''}}}"
      ]
     },
     "execution_count": 6,
     "metadata": {},
     "output_type": "execute_result"
    }
   ],
   "source": [
    "get_meta_info_by_frequency(\"tas\", \"3hrPt\")"
   ]
  },
  {
   "cell_type": "code",
   "execution_count": 7,
   "id": "bef07e51-6d0b-4209-ae07-6a8fac335e77",
   "metadata": {},
   "outputs": [
    {
     "name": "stdout",
     "output_type": "stream",
     "text": [
      "writing: CORDEX-CMIP6_1hr.json\n",
      "writing: CORDEX-CMIP6_6hr.json\n",
      "writing: CORDEX-CMIP6_day.json\n",
      "writing: CORDEX-CMIP6_fx.json\n",
      "writing: CORDEX-CMIP6_mon.json\n"
     ]
    }
   ],
   "source": [
    "for table in dr.create_cmor_tables(df, groupby=\"frequency\").values():\n",
    "    dr.table_to_json(table)"
   ]
  },
  {
   "cell_type": "code",
   "execution_count": 8,
   "id": "8af62ac5-94a8-4af6-96b9-34202c8964ce",
   "metadata": {},
   "outputs": [
    {
     "name": "stdout",
     "output_type": "stream",
     "text": [
      "writing: CORDEX-CMIP6_CORE_1hr.json\n",
      "writing: CORDEX-CMIP6_CORE_day.json\n",
      "writing: CORDEX-CMIP6_CORE_fx.json\n",
      "writing: CORDEX-CMIP6_CORE_mon.json\n",
      "writing: CORDEX-CMIP6_TIER1_1hr.json\n",
      "writing: CORDEX-CMIP6_TIER1_6hr.json\n",
      "writing: CORDEX-CMIP6_TIER1_day.json\n",
      "writing: CORDEX-CMIP6_TIER1_mon.json\n",
      "writing: CORDEX-CMIP6_TIER2_1hr.json\n",
      "writing: CORDEX-CMIP6_TIER2_6hr.json\n",
      "writing: CORDEX-CMIP6_TIER2_day.json\n",
      "writing: CORDEX-CMIP6_TIER2_fx.json\n",
      "writing: CORDEX-CMIP6_TIER2_mon.json\n"
     ]
    }
   ],
   "source": [
    "for table in dr.create_cmor_tables(df, groupby=[\"priority\", \"frequency\"]).values():\n",
    "    dr.table_to_json(table)"
   ]
  },
  {
   "cell_type": "code",
   "execution_count": null,
   "id": "72242340-b00e-4488-9aa0-e10d678604a8",
   "metadata": {},
   "outputs": [],
   "source": []
  }
 ],
 "metadata": {
  "kernelspec": {
   "display_name": "Python [conda env:cmip6]",
   "language": "python",
   "name": "conda-env-cmip6-py"
  },
  "language_info": {
   "codemirror_mode": {
    "name": "ipython",
    "version": 3
   },
   "file_extension": ".py",
   "mimetype": "text/x-python",
   "name": "python",
   "nbconvert_exporter": "python",
   "pygments_lexer": "ipython3",
   "version": "3.10.4"
  }
 },
 "nbformat": 4,
 "nbformat_minor": 5
}
