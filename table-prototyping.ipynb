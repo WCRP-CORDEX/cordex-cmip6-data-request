{
 "cells": [
  {
   "cell_type": "markdown",
   "id": "9b763cdf-daa0-4d47-9d7d-bd627d72d34b",
   "metadata": {},
   "source": [
    "# CMOR-CMIP6 cmor tables prototyping"
   ]
  },
  {
   "cell_type": "code",
   "execution_count": 1,
   "id": "3e315f4a-4e66-4b3b-bace-031987beac29",
   "metadata": {},
   "outputs": [],
   "source": [
    "%load_ext autoreload\n",
    "%autoreload 2"
   ]
  },
  {
   "cell_type": "code",
   "execution_count": 2,
   "id": "c8313747-3f73-41ba-a884-468be5f51324",
   "metadata": {},
   "outputs": [],
   "source": [
    "import pandas as pd\n",
    "\n",
    "import data_request as dr"
   ]
  },
  {
   "cell_type": "code",
   "execution_count": 17,
   "id": "20d3b0a2-5feb-417f-95f1-28638945563c",
   "metadata": {},
   "outputs": [],
   "source": [
    "df = pd.read_csv(\"./tables/cordex-cmip6-data-request-extended.csv\").fillna(\"\")"
   ]
  },
  {
   "cell_type": "code",
   "execution_count": 18,
   "id": "bef07e51-6d0b-4209-ae07-6a8fac335e77",
   "metadata": {},
   "outputs": [
    {
     "name": "stdout",
     "output_type": "stream",
     "text": [
      "writing: ./CORDEX-CMIP6_1hr.json\n",
      "writing: ./CORDEX-CMIP6_6hr.json\n",
      "writing: ./CORDEX-CMIP6_day.json\n",
      "writing: ./CORDEX-CMIP6_fx.json\n",
      "writing: ./CORDEX-CMIP6_mon.json\n"
     ]
    }
   ],
   "source": [
    "for table in dr.create_cmor_tables(df).values():\n",
    "    dr.table_to_json(table)"
   ]
  },
  {
   "cell_type": "code",
   "execution_count": 8,
   "id": "8af62ac5-94a8-4af6-96b9-34202c8964ce",
   "metadata": {},
   "outputs": [
    {
     "name": "stdout",
     "output_type": "stream",
     "text": [
      "writing: ./CORDEX-CMIP6_CORE_1hr.json\n",
      "writing: ./CORDEX-CMIP6_CORE_1hrPt.json\n",
      "writing: ./CORDEX-CMIP6_CORE_day.json\n",
      "writing: ./CORDEX-CMIP6_CORE_fx.json\n",
      "writing: ./CORDEX-CMIP6_CORE_mon.json\n",
      "writing: ./CORDEX-CMIP6_TIER1_1hr.json\n",
      "writing: ./CORDEX-CMIP6_TIER1_1hrPt.json\n",
      "writing: ./CORDEX-CMIP6_TIER1_6hr.json\n",
      "writing: ./CORDEX-CMIP6_TIER1_6hrPt.json\n",
      "writing: ./CORDEX-CMIP6_TIER1_day.json\n",
      "writing: ./CORDEX-CMIP6_TIER1_mon.json\n",
      "writing: ./CORDEX-CMIP6_TIER2_1hr.json\n",
      "writing: ./CORDEX-CMIP6_TIER2_1hrPt.json\n",
      "writing: ./CORDEX-CMIP6_TIER2_6hr.json\n",
      "writing: ./CORDEX-CMIP6_TIER2_6hrPt.json\n",
      "writing: ./CORDEX-CMIP6_TIER2_day.json\n",
      "writing: ./CORDEX-CMIP6_TIER2_fx.json\n",
      "writing: ./CORDEX-CMIP6_TIER2_mon.json\n"
     ]
    }
   ],
   "source": [
    "for table in dr.create_cmor_tables(df, groupby=[\"priority\", \"frequency\"]).values():\n",
    "    dr.table_to_json(table)"
   ]
  }
 ],
 "metadata": {
  "kernelspec": {
   "display_name": "Python [conda env:cmip6]",
   "language": "python",
   "name": "conda-env-cmip6-py"
  },
  "language_info": {
   "codemirror_mode": {
    "name": "ipython",
    "version": 3
   },
   "file_extension": ".py",
   "mimetype": "text/x-python",
   "name": "python",
   "nbconvert_exporter": "python",
   "pygments_lexer": "ipython3",
   "version": "3.10.4"
  }
 },
 "nbformat": 4,
 "nbformat_minor": 5
}
