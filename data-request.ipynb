{
 "cells": [
  {
   "cell_type": "code",
   "execution_count": 1,
   "metadata": {},
   "outputs": [],
   "source": [
    "%load_ext autoreload\n",
    "%autoreload 2"
   ]
  },
  {
   "cell_type": "code",
   "execution_count": 2,
   "metadata": {},
   "outputs": [],
   "source": [
    "import data_request as dr"
   ]
  },
  {
   "cell_type": "code",
   "execution_count": 4,
   "metadata": {},
   "outputs": [
    {
     "data": {
      "text/html": [
       "<div>\n",
       "<style scoped>\n",
       "    .dataframe tbody tr th:only-of-type {\n",
       "        vertical-align: middle;\n",
       "    }\n",
       "\n",
       "    .dataframe tbody tr th {\n",
       "        vertical-align: top;\n",
       "    }\n",
       "\n",
       "    .dataframe thead th {\n",
       "        text-align: right;\n",
       "    }\n",
       "</style>\n",
       "<table border=\"1\" class=\"dataframe\">\n",
       "  <thead>\n",
       "    <tr style=\"text-align: right;\">\n",
       "      <th></th>\n",
       "      <th>output variable name</th>\n",
       "      <th>units</th>\n",
       "      <th>ag</th>\n",
       "      <th>long_name</th>\n",
       "      <th>standard_name</th>\n",
       "      <th>priority</th>\n",
       "      <th>comments</th>\n",
       "      <th>frequency</th>\n",
       "    </tr>\n",
       "  </thead>\n",
       "  <tbody>\n",
       "    <tr>\n",
       "      <th>0</th>\n",
       "      <td>tas</td>\n",
       "      <td>K</td>\n",
       "      <td>i</td>\n",
       "      <td>Near-Surface Air Temperature</td>\n",
       "      <td>air_temperature</td>\n",
       "      <td>CORE</td>\n",
       "      <td>NaN</td>\n",
       "      <td>mon</td>\n",
       "    </tr>\n",
       "    <tr>\n",
       "      <th>1</th>\n",
       "      <td>tas</td>\n",
       "      <td>K</td>\n",
       "      <td>i</td>\n",
       "      <td>Near-Surface Air Temperature</td>\n",
       "      <td>air_temperature</td>\n",
       "      <td>CORE</td>\n",
       "      <td>NaN</td>\n",
       "      <td>day</td>\n",
       "    </tr>\n",
       "    <tr>\n",
       "      <th>2</th>\n",
       "      <td>tas</td>\n",
       "      <td>K</td>\n",
       "      <td>i</td>\n",
       "      <td>Near-Surface Air Temperature</td>\n",
       "      <td>air_temperature</td>\n",
       "      <td>CORE</td>\n",
       "      <td>NaN</td>\n",
       "      <td>1hr</td>\n",
       "    </tr>\n",
       "    <tr>\n",
       "      <th>3</th>\n",
       "      <td>tasmax</td>\n",
       "      <td>K</td>\n",
       "      <td>NaN</td>\n",
       "      <td>Daily Maximum Near-Surface Air Temperature</td>\n",
       "      <td>air_temperature</td>\n",
       "      <td>CORE</td>\n",
       "      <td>maximum from all integrated time steps per day</td>\n",
       "      <td>mon</td>\n",
       "    </tr>\n",
       "    <tr>\n",
       "      <th>4</th>\n",
       "      <td>tasmax</td>\n",
       "      <td>K</td>\n",
       "      <td>NaN</td>\n",
       "      <td>Daily Maximum Near-Surface Air Temperature</td>\n",
       "      <td>air_temperature</td>\n",
       "      <td>CORE</td>\n",
       "      <td>maximum from all integrated time steps per day</td>\n",
       "      <td>day</td>\n",
       "    </tr>\n",
       "    <tr>\n",
       "      <th>...</th>\n",
       "      <td>...</td>\n",
       "      <td>...</td>\n",
       "      <td>...</td>\n",
       "      <td>...</td>\n",
       "      <td>...</td>\n",
       "      <td>...</td>\n",
       "      <td>...</td>\n",
       "      <td>...</td>\n",
       "    </tr>\n",
       "    <tr>\n",
       "      <th>582</th>\n",
       "      <td>rootd</td>\n",
       "      <td>m</td>\n",
       "      <td>NaN</td>\n",
       "      <td>Maximum Root Depth</td>\n",
       "      <td>root_depth</td>\n",
       "      <td>TIER 2</td>\n",
       "      <td>NaN</td>\n",
       "      <td>fx</td>\n",
       "    </tr>\n",
       "    <tr>\n",
       "      <th>583</th>\n",
       "      <td>sftlaf</td>\n",
       "      <td>%</td>\n",
       "      <td>NaN</td>\n",
       "      <td>Percentage of the Grid Cell Occupied by Lake</td>\n",
       "      <td>lake_area_fraction</td>\n",
       "      <td>TIER 2</td>\n",
       "      <td>not in CMIP or in CF</td>\n",
       "      <td>fx</td>\n",
       "    </tr>\n",
       "    <tr>\n",
       "      <th>584</th>\n",
       "      <td>sfturf</td>\n",
       "      <td>%</td>\n",
       "      <td>NaN</td>\n",
       "      <td>Percentage of the Grid Cell Occupied by City</td>\n",
       "      <td>urban_area_fraction</td>\n",
       "      <td>TIER 2</td>\n",
       "      <td>not in CMIP or in CF</td>\n",
       "      <td>fx</td>\n",
       "    </tr>\n",
       "    <tr>\n",
       "      <th>585</th>\n",
       "      <td>dtb</td>\n",
       "      <td>m</td>\n",
       "      <td>NaN</td>\n",
       "      <td>Depth to Bedrock</td>\n",
       "      <td>bedrock_depth</td>\n",
       "      <td>TIER 2</td>\n",
       "      <td>not in CMIP or in CF (lower boundary of land s...</td>\n",
       "      <td>fx</td>\n",
       "    </tr>\n",
       "    <tr>\n",
       "      <th>586</th>\n",
       "      <td>areacella</td>\n",
       "      <td>m2</td>\n",
       "      <td>NaN</td>\n",
       "      <td>Atmosphere Grid-Cell Area</td>\n",
       "      <td>cell_area</td>\n",
       "      <td>TIER 2</td>\n",
       "      <td>NaN</td>\n",
       "      <td>fx</td>\n",
       "    </tr>\n",
       "  </tbody>\n",
       "</table>\n",
       "<p>566 rows × 8 columns</p>\n",
       "</div>"
      ],
      "text/plain": [
       "    output variable name units   ag  \\\n",
       "0                    tas     K    i   \n",
       "1                    tas     K    i   \n",
       "2                    tas     K    i   \n",
       "3                 tasmax     K  NaN   \n",
       "4                 tasmax     K  NaN   \n",
       "..                   ...   ...  ...   \n",
       "582                rootd     m  NaN   \n",
       "583               sftlaf     %  NaN   \n",
       "584               sfturf     %  NaN   \n",
       "585                  dtb     m  NaN   \n",
       "586            areacella    m2  NaN   \n",
       "\n",
       "                                        long_name        standard_name  \\\n",
       "0                    Near-Surface Air Temperature      air_temperature   \n",
       "1                    Near-Surface Air Temperature      air_temperature   \n",
       "2                    Near-Surface Air Temperature      air_temperature   \n",
       "3      Daily Maximum Near-Surface Air Temperature      air_temperature   \n",
       "4      Daily Maximum Near-Surface Air Temperature      air_temperature   \n",
       "..                                            ...                  ...   \n",
       "582                            Maximum Root Depth           root_depth   \n",
       "583  Percentage of the Grid Cell Occupied by Lake   lake_area_fraction   \n",
       "584  Percentage of the Grid Cell Occupied by City  urban_area_fraction   \n",
       "585                              Depth to Bedrock        bedrock_depth   \n",
       "586                     Atmosphere Grid-Cell Area            cell_area   \n",
       "\n",
       "    priority                                           comments frequency  \n",
       "0       CORE                                                NaN       mon  \n",
       "1       CORE                                                NaN       day  \n",
       "2       CORE                                                NaN       1hr  \n",
       "3       CORE     maximum from all integrated time steps per day       mon  \n",
       "4       CORE     maximum from all integrated time steps per day       day  \n",
       "..       ...                                                ...       ...  \n",
       "582   TIER 2                                                NaN        fx  \n",
       "583   TIER 2                              not in CMIP or in CF         fx  \n",
       "584   TIER 2                              not in CMIP or in CF         fx  \n",
       "585   TIER 2  not in CMIP or in CF (lower boundary of land s...        fx  \n",
       "586   TIER 2                                                NaN        fx  \n",
       "\n",
       "[566 rows x 8 columns]"
      ]
     },
     "execution_count": 4,
     "metadata": {},
     "output_type": "execute_result"
    }
   ],
   "source": [
    "df = dr.retrieve_data_request()\n",
    "df"
   ]
  },
  {
   "cell_type": "code",
   "execution_count": 5,
   "metadata": {},
   "outputs": [
    {
     "data": {
      "text/plain": [
       "priority  output variable name\n",
       "CORE      clt                     [mon, day, 1hr]\n",
       "          evspsbl                 [mon, day, 1hr]\n",
       "          hurs                    [mon, day, 1hr]\n",
       "          huss                    [mon, day, 1hr]\n",
       "          orog                               [fx]\n",
       "                                       ...       \n",
       "TIER 2    zg20                    [mon, day, 6hr]\n",
       "          zg30                    [mon, day, 6hr]\n",
       "          zg50                    [mon, day, 6hr]\n",
       "          zg70                    [mon, day, 6hr]\n",
       "          zg750                   [mon, day, 6hr]\n",
       "Name: frequency, Length: 199, dtype: object"
      ]
     },
     "execution_count": 5,
     "metadata": {},
     "output_type": "execute_result"
    }
   ],
   "source": [
    "df.groupby([\"priority\", \"output variable name\"])[\"frequency\"].apply(list)"
   ]
  },
  {
   "cell_type": "code",
   "execution_count": 6,
   "metadata": {},
   "outputs": [],
   "source": [
    "df.to_csv(\"cordex-cmip6-data-request.csv\", index=False)"
   ]
  },
  {
   "cell_type": "code",
   "execution_count": 8,
   "metadata": {},
   "outputs": [],
   "source": [
    "url = \"https://raw.githubusercontent.com/PCMDI/cmip6-cmor-tables/master/Tables/CMIP6_3hr.json\""
   ]
  },
  {
   "cell_type": "code",
   "execution_count": 25,
   "metadata": {},
   "outputs": [],
   "source": [
    "import json\n",
    "from urllib.request import urlopen\n",
    "\n",
    "\n",
    "def get_jsonparsed_data(url):\n",
    "    \"\"\"\n",
    "    Receive the content of ``url``, parse it as JSON and return the object.\n",
    "\n",
    "    Parameters\n",
    "    ----------\n",
    "    url : str\n",
    "\n",
    "    Returns\n",
    "    -------\n",
    "    dict\n",
    "    \"\"\"\n",
    "    response = urlopen(url)\n",
    "    data = response.read().decode(\"utf-8\")\n",
    "    return json.loads(data)\n",
    "\n",
    "\n",
    "def get_cmip6_cmor_table(table):\n",
    "    url = f\"https://raw.githubusercontent.com/PCMDI/cmip6-cmor-tables/master/Tables/CMIP6_{table}.json\"\n",
    "    return get_jsonparsed_data(url)\n",
    "\n",
    "\n",
    "def get_variable_entry(variable, table):\n",
    "    return get_cmip6_cmor_table(table)[\"variable_entry\"][variable]\n",
    "\n",
    "\n",
    "url = \"https://raw.githubusercontent.com/PCMDI/cmip6-cmor-tables/master/Tables/CMIP6_3hr.json\"\n",
    "table_3hr = get_jsonparsed_data(url)"
   ]
  },
  {
   "cell_type": "code",
   "execution_count": 40,
   "metadata": {},
   "outputs": [
    {
     "data": {
      "text/plain": [
       "{'mon': 'Amon', 'day': 'day', '6hr': '3hr', '3hr': '3hr', '1hr': '3hr'}"
      ]
     },
     "execution_count": 40,
     "metadata": {},
     "output_type": "execute_result"
    }
   ],
   "source": [
    "dr.table_map"
   ]
  },
  {
   "cell_type": "code",
   "execution_count": 25,
   "metadata": {},
   "outputs": [],
   "source": [
    "def update_cell_method(row):\n",
    "    #\n",
    "    table = dr.table_map[row[\"frequency\"]]\n",
    "    try:\n",
    "        return dr.get_variable_entry(row[\"output variable name\"], table)[\"cell_methods\"]\n",
    "    except Exception:\n",
    "        return None\n",
    "\n",
    "\n",
    "df[\"cell_methods\"] = df.apply(update_cell_method, axis=1)"
   ]
  },
  {
   "cell_type": "code",
   "execution_count": 50,
   "metadata": {},
   "outputs": [
    {
     "data": {
      "text/plain": [
       "'.json'"
      ]
     },
     "execution_count": 50,
     "metadata": {},
     "output_type": "execute_result"
    }
   ],
   "source": [
    "from pathlib import Path\n",
    "\n",
    "Path(\"cmip6.json\").suffix"
   ]
  },
  {
   "cell_type": "code",
   "execution_count": 30,
   "metadata": {},
   "outputs": [],
   "source": [
    "import pooch\n",
    "\n",
    "pooch.make_registry(\"/Users/lars/python/cmip6-cmor-tables/Tables\", \"registry\")"
   ]
  },
  {
   "cell_type": "code",
   "execution_count": 38,
   "metadata": {},
   "outputs": [],
   "source": [
    "import github\n",
    "from github import Github\n",
    "\n",
    "g = Github()\n",
    "repo = g.get_repo(\"PCMDI/cmip6-cmor-tables\")\n",
    "contents = repo.get_contents(\"Tables\")\n",
    "# repo = g.get_user().get_repo( \"cmip6-cmor-tables\" )\n",
    "# repo.get_dir_contents(\"\")"
   ]
  },
  {
   "cell_type": "code",
   "execution_count": 44,
   "metadata": {},
   "outputs": [
    {
     "data": {
      "text/plain": [
       "'CMIP6_3hr.json'"
      ]
     },
     "execution_count": 44,
     "metadata": {},
     "output_type": "execute_result"
    }
   ],
   "source": [
    "import os\n",
    "\n",
    "os.path.basename(contents[0].path)"
   ]
  },
  {
   "cell_type": "code",
   "execution_count": 107,
   "metadata": {},
   "outputs": [
    {
     "data": {
      "text/plain": [
       "{'bs550aer': {'frequency': '6hrPt',\n",
       "  'modeling_realm': 'aerosol',\n",
       "  'standard_name': 'volume_scattering_function_of_radiative_flux_in_air_due_to_ambient_aerosol_particles',\n",
       "  'units': 'm-1 sr-1',\n",
       "  'cell_methods': 'area: mean time: point',\n",
       "  'cell_measures': 'area: areacella',\n",
       "  'long_name': 'Aerosol Backscatter Coefficient',\n",
       "  'comment': 'Aerosol  Backscatter at 550nm and 180 degrees, computed from extinction and lidar ratio',\n",
       "  'dimensions': 'longitude latitude alevel time1 lambda550nm',\n",
       "  'out_name': 'bs550aer',\n",
       "  'type': 'real',\n",
       "  'positive': '',\n",
       "  'valid_min': '',\n",
       "  'valid_max': '',\n",
       "  'ok_min_mean_abs': '',\n",
       "  'ok_max_mean_abs': ''},\n",
       " 'ec550aer': {'frequency': '6hrPt',\n",
       "  'modeling_realm': 'aerosol',\n",
       "  'standard_name': 'volume_extinction_coefficient_in_air_due_to_ambient_aerosol_particles',\n",
       "  'units': 'm-1',\n",
       "  'cell_methods': 'area: mean time: point',\n",
       "  'cell_measures': 'area: areacella',\n",
       "  'long_name': 'Aerosol Extinction Coefficient',\n",
       "  'comment': 'Aerosol volume extinction coefficient at 550nm wavelength.',\n",
       "  'dimensions': 'longitude latitude alevel time1 lambda550nm',\n",
       "  'out_name': 'ec550aer',\n",
       "  'type': 'real',\n",
       "  'positive': '',\n",
       "  'valid_min': '',\n",
       "  'valid_max': '',\n",
       "  'ok_min_mean_abs': '',\n",
       "  'ok_max_mean_abs': ''},\n",
       " 'hus': {'frequency': '6hrPt',\n",
       "  'modeling_realm': 'atmos',\n",
       "  'standard_name': 'specific_humidity',\n",
       "  'units': '1',\n",
       "  'cell_methods': 'area: mean time: point',\n",
       "  'cell_measures': 'area: areacella',\n",
       "  'long_name': 'Specific Humidity',\n",
       "  'comment': 'Specific humidity is the mass fraction of water vapor in (moist) air.',\n",
       "  'dimensions': 'longitude latitude alevel time1',\n",
       "  'out_name': 'hus',\n",
       "  'type': 'real',\n",
       "  'positive': '',\n",
       "  'valid_min': '',\n",
       "  'valid_max': '',\n",
       "  'ok_min_mean_abs': '',\n",
       "  'ok_max_mean_abs': ''},\n",
       " 'pfull': {'frequency': '6hrPt',\n",
       "  'modeling_realm': 'atmos',\n",
       "  'standard_name': 'air_pressure',\n",
       "  'units': 'Pa',\n",
       "  'cell_methods': 'area: mean time: point',\n",
       "  'cell_measures': 'area: areacella',\n",
       "  'long_name': 'Pressure at Model Full-Levels',\n",
       "  'comment': 'Air pressure on model levels',\n",
       "  'dimensions': 'longitude latitude alevel time1',\n",
       "  'out_name': 'pfull',\n",
       "  'type': 'real',\n",
       "  'positive': '',\n",
       "  'valid_min': '',\n",
       "  'valid_max': '',\n",
       "  'ok_min_mean_abs': '',\n",
       "  'ok_max_mean_abs': ''},\n",
       " 'ps': {'frequency': '6hrPt',\n",
       "  'modeling_realm': 'atmos',\n",
       "  'standard_name': 'surface_air_pressure',\n",
       "  'units': 'Pa',\n",
       "  'cell_methods': 'area: mean time: point',\n",
       "  'cell_measures': 'area: areacella',\n",
       "  'long_name': 'Surface Air Pressure',\n",
       "  'comment': 'surface pressure (not mean sea-level pressure), 2-D field to calculate the 3-D pressure field from hybrid coordinates',\n",
       "  'dimensions': 'longitude latitude time1',\n",
       "  'out_name': 'ps',\n",
       "  'type': 'real',\n",
       "  'positive': '',\n",
       "  'valid_min': '',\n",
       "  'valid_max': '',\n",
       "  'ok_min_mean_abs': '',\n",
       "  'ok_max_mean_abs': ''},\n",
       " 'ta': {'frequency': '6hrPt',\n",
       "  'modeling_realm': 'atmos',\n",
       "  'standard_name': 'air_temperature',\n",
       "  'units': 'K',\n",
       "  'cell_methods': 'area: mean time: point',\n",
       "  'cell_measures': 'area: areacella',\n",
       "  'long_name': 'Air Temperature',\n",
       "  'comment': 'Air Temperature',\n",
       "  'dimensions': 'longitude latitude alevel time1',\n",
       "  'out_name': 'ta',\n",
       "  'type': 'real',\n",
       "  'positive': '',\n",
       "  'valid_min': '',\n",
       "  'valid_max': '',\n",
       "  'ok_min_mean_abs': '',\n",
       "  'ok_max_mean_abs': ''},\n",
       " 'ua': {'frequency': '6hrPt',\n",
       "  'modeling_realm': 'atmos',\n",
       "  'standard_name': 'eastward_wind',\n",
       "  'units': 'm s-1',\n",
       "  'cell_methods': 'time: point',\n",
       "  'cell_measures': '--OPT',\n",
       "  'long_name': 'Eastward Wind',\n",
       "  'comment': 'Zonal wind (positive in a eastward direction).',\n",
       "  'dimensions': 'longitude latitude alevel time1',\n",
       "  'out_name': 'ua',\n",
       "  'type': 'real',\n",
       "  'positive': '',\n",
       "  'valid_min': '',\n",
       "  'valid_max': '',\n",
       "  'ok_min_mean_abs': '',\n",
       "  'ok_max_mean_abs': ''},\n",
       " 'va': {'frequency': '6hrPt',\n",
       "  'modeling_realm': 'atmos',\n",
       "  'standard_name': 'northward_wind',\n",
       "  'units': 'm s-1',\n",
       "  'cell_methods': 'time: point',\n",
       "  'cell_measures': '--OPT',\n",
       "  'long_name': 'Northward Wind',\n",
       "  'comment': 'Meridional wind (positive in a northward direction).',\n",
       "  'dimensions': 'longitude latitude alevel time1',\n",
       "  'out_name': 'va',\n",
       "  'type': 'real',\n",
       "  'positive': '',\n",
       "  'valid_min': '',\n",
       "  'valid_max': '',\n",
       "  'ok_min_mean_abs': '',\n",
       "  'ok_max_mean_abs': ''}}"
      ]
     },
     "execution_count": 107,
     "metadata": {},
     "output_type": "execute_result"
    }
   ],
   "source": [
    "dr.get_cmip6_cmor_table(\"6hrLev\")[\"variable_entry\"]"
   ]
  },
  {
   "cell_type": "code",
   "execution_count": 109,
   "metadata": {},
   "outputs": [
    {
     "name": "stdout",
     "output_type": "stream",
     "text": [
      "variables\n"
     ]
    },
    {
     "data": {
      "text/plain": [
       "['CMIP6_3hr.json',\n",
       " 'CMIP6_6hrLev.json',\n",
       " 'CMIP6_6hrPlev.json',\n",
       " 'CMIP6_6hrPlevPt.json',\n",
       " 'CMIP6_AERday.json',\n",
       " 'CMIP6_AERhr.json',\n",
       " 'CMIP6_AERmon.json',\n",
       " 'CMIP6_AERmonZ.json',\n",
       " 'CMIP6_Amon.json',\n",
       " 'CMIP6_CF3hr.json',\n",
       " 'CMIP6_CFday.json',\n",
       " 'CMIP6_CFmon.json',\n",
       " 'CMIP6_CFsubhr.json',\n",
       " 'CMIP6_E1hr.json',\n",
       " 'CMIP6_E1hrClimMon.json',\n",
       " 'CMIP6_E3hr.json',\n",
       " 'CMIP6_E3hrPt.json',\n",
       " 'CMIP6_E6hrZ.json',\n",
       " 'CMIP6_Eday.json',\n",
       " 'CMIP6_EdayZ.json',\n",
       " 'CMIP6_Efx.json',\n",
       " 'CMIP6_Emon.json',\n",
       " 'CMIP6_EmonZ.json',\n",
       " 'CMIP6_Esubhr.json',\n",
       " 'CMIP6_Eyr.json',\n",
       " 'CMIP6_IfxAnt.json',\n",
       " 'CMIP6_IfxGre.json',\n",
       " 'CMIP6_ImonAnt.json',\n",
       " 'CMIP6_ImonGre.json',\n",
       " 'CMIP6_IyrAnt.json',\n",
       " 'CMIP6_IyrGre.json',\n",
       " 'CMIP6_LImon.json',\n",
       " 'CMIP6_Lmon.json',\n",
       " 'CMIP6_Oclim.json',\n",
       " 'CMIP6_Oday.json',\n",
       " 'CMIP6_Odec.json',\n",
       " 'CMIP6_Ofx.json',\n",
       " 'CMIP6_Omon.json',\n",
       " 'CMIP6_Oyr.json',\n",
       " 'CMIP6_SIday.json',\n",
       " 'CMIP6_SImon.json',\n",
       " 'CMIP6_day.json',\n",
       " 'CMIP6_fx.json']"
      ]
     },
     "execution_count": 109,
     "metadata": {},
     "output_type": "execute_result"
    }
   ],
   "source": [
    "dr.cmip6_table_list()"
   ]
  },
  {
   "cell_type": "code",
   "execution_count": 142,
   "metadata": {},
   "outputs": [
    {
     "data": {
      "text/plain": [
       "{'CMIP6_3hr.json': {'tas': {'frequency': '3hrPt',\n",
       "   'modeling_realm': 'atmos',\n",
       "   'standard_name': 'air_temperature',\n",
       "   'units': 'K',\n",
       "   'cell_methods': 'area: mean time: point',\n",
       "   'cell_measures': 'area: areacella',\n",
       "   'long_name': 'Near-Surface Air Temperature',\n",
       "   'comment': 'near-surface (usually, 2 meter) air temperature',\n",
       "   'dimensions': 'longitude latitude time1 height2m',\n",
       "   'out_name': 'tas',\n",
       "   'type': 'real',\n",
       "   'positive': '',\n",
       "   'valid_min': '',\n",
       "   'valid_max': '',\n",
       "   'ok_min_mean_abs': '',\n",
       "   'ok_max_mean_abs': ''}}}"
      ]
     },
     "execution_count": 142,
     "metadata": {},
     "output_type": "execute_result"
    }
   ],
   "source": [
    "tas = dr.get_all_variable_entries_by_attributes(\n",
    "    out_name=\"tas\", frequency=\"3hrPt\", how=\"all\"\n",
    ")  # .keys()\n",
    "tas"
   ]
  },
  {
   "cell_type": "code",
   "execution_count": 129,
   "metadata": {},
   "outputs": [
    {
     "data": {
      "text/plain": [
       "False"
      ]
     },
     "execution_count": 129,
     "metadata": {},
     "output_type": "execute_result"
    }
   ],
   "source": [
    "eval(\"all([True, False])\") is True"
   ]
  },
  {
   "cell_type": "code",
   "execution_count": 138,
   "metadata": {},
   "outputs": [
    {
     "data": {
      "text/plain": [
       "{'tas': {'frequency': '6hr',\n",
       "  'modeling_realm': 'atmos',\n",
       "  'standard_name': 'air_temperature',\n",
       "  'units': 'K',\n",
       "  'cell_methods': 'area: time: mean',\n",
       "  'cell_measures': 'area: areacella',\n",
       "  'long_name': 'Near-Surface Air Temperature',\n",
       "  'comment': 'near-surface (usually, 2 meter) air temperature',\n",
       "  'dimensions': 'longitude latitude time height2m',\n",
       "  'out_name': 'tas',\n",
       "  'type': 'real',\n",
       "  'positive': '',\n",
       "  'valid_min': '',\n",
       "  'valid_max': '',\n",
       "  'ok_min_mean_abs': '',\n",
       "  'ok_max_mean_abs': ''}}"
      ]
     },
     "execution_count": 138,
     "metadata": {},
     "output_type": "execute_result"
    }
   ],
   "source": [
    "tas[\"CMIP6_6hrPlev.json\"]"
   ]
  },
  {
   "cell_type": "code",
   "execution_count": null,
   "metadata": {},
   "outputs": [],
   "source": []
  }
 ],
 "metadata": {
  "kernelspec": {
   "display_name": "Python [conda env:cmip6]",
   "language": "python",
   "name": "conda-env-cmip6-py"
  },
  "language_info": {
   "codemirror_mode": {
    "name": "ipython",
    "version": 3
   },
   "file_extension": ".py",
   "mimetype": "text/x-python",
   "name": "python",
   "nbconvert_exporter": "python",
   "pygments_lexer": "ipython3",
   "version": "3.10.4"
  }
 },
 "nbformat": 4,
 "nbformat_minor": 4
}
